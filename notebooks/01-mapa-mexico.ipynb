{
 "cells": [
  {
   "cell_type": "markdown",
   "metadata": {},
   "source": [
    "# Mapa de México"
   ]
  },
  {
   "cell_type": "code",
   "execution_count": 1,
   "metadata": {},
   "outputs": [],
   "source": [
    "import pandas as pd\n",
    "import numpy as np\n",
    "import datetime\n",
    "import matplotlib.pyplot as plt\n",
    "import descartes\n",
    "import geopandas"
   ]
  },
  {
   "cell_type": "markdown",
   "metadata": {},
   "source": [
    "Fuente: https://www.arcgis.com/home/item.html?id=ac9041c51b5c49c683fbfec61dc03ba8"
   ]
  },
  {
   "cell_type": "code",
   "execution_count": 19,
   "metadata": {},
   "outputs": [
    {
     "name": "stdout",
     "output_type": "stream",
     "text": [
      "<class 'geopandas.geodataframe.GeoDataFrame'>\n",
      "RangeIndex: 32 entries, 0 to 31\n",
      "Data columns (total 16 columns):\n",
      "OBJECTID      32 non-null int64\n",
      "FIPS_ADMIN    32 non-null object\n",
      "GMI_ADMIN     32 non-null object\n",
      "ADMIN_NAME    32 non-null object\n",
      "FIPS_CNTRY    32 non-null object\n",
      "GMI_CNTRY     32 non-null object\n",
      "CNTRY_NAME    32 non-null object\n",
      "POP_ADMIN     32 non-null int64\n",
      "TYPE_ENG      32 non-null object\n",
      "TYPE_LOC      32 non-null object\n",
      "SQKM          32 non-null float64\n",
      "SQMI          32 non-null float64\n",
      "COLOR_MAP     32 non-null object\n",
      "Shape_Leng    32 non-null float64\n",
      "Shape_Area    32 non-null float64\n",
      "geometry      32 non-null object\n",
      "dtypes: float64(4), int64(2), object(10)\n",
      "memory usage: 4.1+ KB\n"
     ]
    }
   ],
   "source": [
    "mexstates = geopandas.read_file('../data/mexstates.shp');\n",
    "mexstates.info()"
   ]
  },
  {
   "cell_type": "code",
   "execution_count": 20,
   "metadata": {},
   "outputs": [
    {
     "data": {
      "text/html": [
       "<div>\n",
       "<style scoped>\n",
       "    .dataframe tbody tr th:only-of-type {\n",
       "        vertical-align: middle;\n",
       "    }\n",
       "\n",
       "    .dataframe tbody tr th {\n",
       "        vertical-align: top;\n",
       "    }\n",
       "\n",
       "    .dataframe thead th {\n",
       "        text-align: right;\n",
       "    }\n",
       "</style>\n",
       "<table border=\"1\" class=\"dataframe\">\n",
       "  <thead>\n",
       "    <tr style=\"text-align: right;\">\n",
       "      <th></th>\n",
       "      <th>OBJECTID</th>\n",
       "      <th>FIPS_ADMIN</th>\n",
       "      <th>GMI_ADMIN</th>\n",
       "      <th>ADMIN_NAME</th>\n",
       "      <th>FIPS_CNTRY</th>\n",
       "      <th>GMI_CNTRY</th>\n",
       "      <th>CNTRY_NAME</th>\n",
       "      <th>POP_ADMIN</th>\n",
       "      <th>TYPE_ENG</th>\n",
       "      <th>TYPE_LOC</th>\n",
       "      <th>SQKM</th>\n",
       "      <th>SQMI</th>\n",
       "      <th>COLOR_MAP</th>\n",
       "      <th>Shape_Leng</th>\n",
       "      <th>Shape_Area</th>\n",
       "      <th>geometry</th>\n",
       "    </tr>\n",
       "  </thead>\n",
       "  <tbody>\n",
       "    <tr>\n",
       "      <td>0</td>\n",
       "      <td>888</td>\n",
       "      <td>MX06</td>\n",
       "      <td>MEX-CHH</td>\n",
       "      <td>Chihuahua</td>\n",
       "      <td>MX</td>\n",
       "      <td>MEX</td>\n",
       "      <td>Mexico</td>\n",
       "      <td>2656214</td>\n",
       "      <td>State</td>\n",
       "      <td>Estado</td>\n",
       "      <td>247935.02</td>\n",
       "      <td>95727.70</td>\n",
       "      <td>12</td>\n",
       "      <td>22.609277</td>\n",
       "      <td>22.890985</td>\n",
       "      <td>POLYGON ((-103.63085937506 26.66107940648959, ...</td>\n",
       "    </tr>\n",
       "    <tr>\n",
       "      <td>1</td>\n",
       "      <td>933</td>\n",
       "      <td>MX07</td>\n",
       "      <td>MEX-CDZ</td>\n",
       "      <td>Coahuila</td>\n",
       "      <td>MX</td>\n",
       "      <td>MEX</td>\n",
       "      <td>Mexico</td>\n",
       "      <td>2145539</td>\n",
       "      <td>State</td>\n",
       "      <td>Estado</td>\n",
       "      <td>150843.95</td>\n",
       "      <td>58240.87</td>\n",
       "      <td>2</td>\n",
       "      <td>18.993090</td>\n",
       "      <td>13.733655</td>\n",
       "      <td>POLYGON ((-102.6669464107481 25.0758323669703,...</td>\n",
       "    </tr>\n",
       "    <tr>\n",
       "      <td>2</td>\n",
       "      <td>976</td>\n",
       "      <td>MX19</td>\n",
       "      <td>MEX-NLE</td>\n",
       "      <td>Nuevo Leon</td>\n",
       "      <td>MX</td>\n",
       "      <td>MEX</td>\n",
       "      <td>Mexico</td>\n",
       "      <td>3370912</td>\n",
       "      <td>State</td>\n",
       "      <td>Estado</td>\n",
       "      <td>65173.05</td>\n",
       "      <td>25163.31</td>\n",
       "      <td>3</td>\n",
       "      <td>15.426171</td>\n",
       "      <td>5.844668</td>\n",
       "      <td>POLYGON ((-99.71389770501492 27.66893768322768...</td>\n",
       "    </tr>\n",
       "    <tr>\n",
       "      <td>3</td>\n",
       "      <td>978</td>\n",
       "      <td>MX28</td>\n",
       "      <td>MEX-TML</td>\n",
       "      <td>Tamaulipas</td>\n",
       "      <td>MX</td>\n",
       "      <td>MEX</td>\n",
       "      <td>Mexico</td>\n",
       "      <td>2272724</td>\n",
       "      <td>State</td>\n",
       "      <td>Estado</td>\n",
       "      <td>79502.24</td>\n",
       "      <td>30695.81</td>\n",
       "      <td>11</td>\n",
       "      <td>18.023144</td>\n",
       "      <td>7.056563</td>\n",
       "      <td>POLYGON ((-98.616088867607 22.41849136378556, ...</td>\n",
       "    </tr>\n",
       "    <tr>\n",
       "      <td>4</td>\n",
       "      <td>998</td>\n",
       "      <td>MX25</td>\n",
       "      <td>MEX-SIN</td>\n",
       "      <td>Sinaloa</td>\n",
       "      <td>MX</td>\n",
       "      <td>MEX</td>\n",
       "      <td>Mexico</td>\n",
       "      <td>2397706</td>\n",
       "      <td>State</td>\n",
       "      <td>Estado</td>\n",
       "      <td>57638.85</td>\n",
       "      <td>22254.36</td>\n",
       "      <td>5</td>\n",
       "      <td>16.466051</td>\n",
       "      <td>5.145524</td>\n",
       "      <td>POLYGON ((-108.3941802981821 25.14110946612914...</td>\n",
       "    </tr>\n",
       "  </tbody>\n",
       "</table>\n",
       "</div>"
      ],
      "text/plain": [
       "   OBJECTID FIPS_ADMIN GMI_ADMIN  ADMIN_NAME FIPS_CNTRY GMI_CNTRY CNTRY_NAME  \\\n",
       "0       888       MX06   MEX-CHH   Chihuahua         MX       MEX     Mexico   \n",
       "1       933       MX07   MEX-CDZ    Coahuila         MX       MEX     Mexico   \n",
       "2       976       MX19   MEX-NLE  Nuevo Leon         MX       MEX     Mexico   \n",
       "3       978       MX28   MEX-TML  Tamaulipas         MX       MEX     Mexico   \n",
       "4       998       MX25   MEX-SIN     Sinaloa         MX       MEX     Mexico   \n",
       "\n",
       "   POP_ADMIN TYPE_ENG TYPE_LOC       SQKM      SQMI COLOR_MAP  Shape_Leng  \\\n",
       "0    2656214    State   Estado  247935.02  95727.70        12   22.609277   \n",
       "1    2145539    State   Estado  150843.95  58240.87         2   18.993090   \n",
       "2    3370912    State   Estado   65173.05  25163.31         3   15.426171   \n",
       "3    2272724    State   Estado   79502.24  30695.81        11   18.023144   \n",
       "4    2397706    State   Estado   57638.85  22254.36         5   16.466051   \n",
       "\n",
       "   Shape_Area                                           geometry  \n",
       "0   22.890985  POLYGON ((-103.63085937506 26.66107940648959, ...  \n",
       "1   13.733655  POLYGON ((-102.6669464107481 25.0758323669703,...  \n",
       "2    5.844668  POLYGON ((-99.71389770501492 27.66893768322768...  \n",
       "3    7.056563  POLYGON ((-98.616088867607 22.41849136378556, ...  \n",
       "4    5.145524  POLYGON ((-108.3941802981821 25.14110946612914...  "
      ]
     },
     "execution_count": 20,
     "metadata": {},
     "output_type": "execute_result"
    }
   ],
   "source": [
    "mexstates.head()"
   ]
  },
  {
   "cell_type": "code",
   "execution_count": 21,
   "metadata": {},
   "outputs": [
    {
     "data": {
      "text/plain": [
       "0               Chihuahua\n",
       "1                Coahuila\n",
       "2              Nuevo Leon\n",
       "3              Tamaulipas\n",
       "4                 Sinaloa\n",
       "5                 Durango\n",
       "6               Zacatecas\n",
       "7         San Luis Potosi\n",
       "8                 Jalisco\n",
       "9          Aguascalientes\n",
       "10               Veracruz\n",
       "11             Guanajuato\n",
       "12              Queretaro\n",
       "13                Yucatan\n",
       "14           Quintana Roo\n",
       "15                Hidalgo\n",
       "16               Campeche\n",
       "17                 Puebla\n",
       "18              Michoacan\n",
       "19                 Mexico\n",
       "20               Tlaxcala\n",
       "21                 Colima\n",
       "22       Distrito Federal\n",
       "23                Morelos\n",
       "24               Guerrero\n",
       "25                 Oaxaca\n",
       "26                Tabasco\n",
       "27                Chiapas\n",
       "28                 Sonora\n",
       "29        Baja California\n",
       "30    Baja California Sur\n",
       "31                Nayarit\n",
       "Name: ADMIN_NAME, dtype: object"
      ]
     },
     "execution_count": 21,
     "metadata": {},
     "output_type": "execute_result"
    }
   ],
   "source": [
    "mexstates['ADMIN_NAME']"
   ]
  },
  {
   "cell_type": "markdown",
   "metadata": {},
   "source": [
    "### Corrección de nombres"
   ]
  },
  {
   "cell_type": "code",
   "execution_count": 22,
   "metadata": {},
   "outputs": [
    {
     "name": "stderr",
     "output_type": "stream",
     "text": [
      "/home/atix010/.local/lib/python3.6/site-packages/ipykernel_launcher.py:1: SettingWithCopyWarning: \n",
      "A value is trying to be set on a copy of a slice from a DataFrame\n",
      "\n",
      "See the caveats in the documentation: http://pandas.pydata.org/pandas-docs/stable/user_guide/indexing.html#returning-a-view-versus-a-copy\n",
      "  \"\"\"Entry point for launching an IPython kernel.\n",
      "/home/atix010/.local/lib/python3.6/site-packages/ipykernel_launcher.py:2: SettingWithCopyWarning: \n",
      "A value is trying to be set on a copy of a slice from a DataFrame\n",
      "\n",
      "See the caveats in the documentation: http://pandas.pydata.org/pandas-docs/stable/user_guide/indexing.html#returning-a-view-versus-a-copy\n",
      "  \n",
      "/home/atix010/.local/lib/python3.6/site-packages/ipykernel_launcher.py:3: SettingWithCopyWarning: \n",
      "A value is trying to be set on a copy of a slice from a DataFrame\n",
      "\n",
      "See the caveats in the documentation: http://pandas.pydata.org/pandas-docs/stable/user_guide/indexing.html#returning-a-view-versus-a-copy\n",
      "  This is separate from the ipykernel package so we can avoid doing imports until\n",
      "/home/atix010/.local/lib/python3.6/site-packages/ipykernel_launcher.py:4: SettingWithCopyWarning: \n",
      "A value is trying to be set on a copy of a slice from a DataFrame\n",
      "\n",
      "See the caveats in the documentation: http://pandas.pydata.org/pandas-docs/stable/user_guide/indexing.html#returning-a-view-versus-a-copy\n",
      "  after removing the cwd from sys.path.\n",
      "/home/atix010/.local/lib/python3.6/site-packages/ipykernel_launcher.py:5: SettingWithCopyWarning: \n",
      "A value is trying to be set on a copy of a slice from a DataFrame\n",
      "\n",
      "See the caveats in the documentation: http://pandas.pydata.org/pandas-docs/stable/user_guide/indexing.html#returning-a-view-versus-a-copy\n",
      "  \"\"\"\n",
      "/home/atix010/.local/lib/python3.6/site-packages/ipykernel_launcher.py:6: SettingWithCopyWarning: \n",
      "A value is trying to be set on a copy of a slice from a DataFrame\n",
      "\n",
      "See the caveats in the documentation: http://pandas.pydata.org/pandas-docs/stable/user_guide/indexing.html#returning-a-view-versus-a-copy\n",
      "  \n"
     ]
    }
   ],
   "source": [
    "mexstates['ADMIN_NAME'][2] = 'Nuevo León'\n",
    "mexstates['ADMIN_NAME'][7] = 'San Luis Potosí'\n",
    "mexstates['ADMIN_NAME'][12] = 'Querétaro'\n",
    "mexstates['ADMIN_NAME'][13] = 'Yucatán'\n",
    "mexstates['ADMIN_NAME'][18] = 'Michoacán'\n",
    "mexstates['ADMIN_NAME'][19] = 'Edo. de México'"
   ]
  },
  {
   "cell_type": "code",
   "execution_count": 31,
   "metadata": {},
   "outputs": [
    {
     "data": {
      "text/plain": [
       "0          Aguascalientes\n",
       "1         Baja California\n",
       "2     Baja California Sur\n",
       "3                Campeche\n",
       "4                 Chiapas\n",
       "5               Chihuahua\n",
       "6                Coahuila\n",
       "7                  Colima\n",
       "8        Distrito Federal\n",
       "9                 Durango\n",
       "10         Edo. de México\n",
       "11             Guanajuato\n",
       "12               Guerrero\n",
       "13                Hidalgo\n",
       "14                Jalisco\n",
       "15              Michoacán\n",
       "16                Morelos\n",
       "17                Nayarit\n",
       "18             Nuevo León\n",
       "19                 Oaxaca\n",
       "20                 Puebla\n",
       "21              Querétaro\n",
       "22           Quintana Roo\n",
       "23        San Luis Potosí\n",
       "24                Sinaloa\n",
       "25                 Sonora\n",
       "26                Tabasco\n",
       "27             Tamaulipas\n",
       "28               Tlaxcala\n",
       "29               Veracruz\n",
       "30                Yucatán\n",
       "31              Zacatecas\n",
       "Name: ADMIN_NAME, dtype: object"
      ]
     },
     "execution_count": 31,
     "metadata": {},
     "output_type": "execute_result"
    }
   ],
   "source": [
    "mexstates = mexstates.sort_values(by='ADMIN_NAME').set_index('ADMIN_NAME').reset_index()\n",
    "mexstates.ADMIN_NAME"
   ]
  },
  {
   "cell_type": "code",
   "execution_count": 26,
   "metadata": {},
   "outputs": [
    {
     "data": {
      "image/png": "[encoded data removed]",
      "text/plain": [
       "<Figure size 432x288 with 1 Axes>"
      ]
     },
     "metadata": {
      "needs_background": "light"
     },
     "output_type": "display_data"
    }
   ],
   "source": [
    "mexstates.plot();"
   ]
  },
  {
   "cell_type": "code",
   "execution_count": 32,
   "metadata": {},
   "outputs": [],
   "source": [
    "mexstates.to_file('../data/estados_mexico.shp')"
   ]
  }
 ],
 "metadata": {
  "kernelspec": {
   "display_name": "Python 3",
   "language": "python",
   "name": "python3"
  },
  "language_info": {
   "codemirror_mode": {
    "name": "ipython",
    "version": 3
   },
   "file_extension": ".py",
   "mimetype": "text/x-python",
   "name": "python",
   "nbconvert_exporter": "python",
   "pygments_lexer": "ipython3",
   "version": "3.6.8"
  }
 },
 "nbformat": 4,
 "nbformat_minor": 2
}
